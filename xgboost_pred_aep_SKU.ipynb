{
 "cells": [
  {
   "cell_type": "code",
   "execution_count": 35,
   "id": "1c743766",
   "metadata": {},
   "outputs": [],
   "source": [
    "from warnings import filterwarnings\n",
    "filterwarnings('ignore')\n",
    "from sklearn.metrics import mean_squared_error, mean_absolute_error\n",
    "from xgboost import plot_importance, plot_tree\n",
    "from german_holidays import get_german_holiday_calendar\n",
    "from sklearn.metrics import r2_score\n",
    "from sklearn.model_selection import GridSearchCV\n",
    "import xgboost as xgb"
   ]
  },
  {
   "cell_type": "code",
   "execution_count": 36,
   "id": "e89dd4fe",
   "metadata": {},
   "outputs": [],
   "source": [
    "import matplotlib.pyplot as plt\n",
    "import seaborn as sns\n",
    "import pandas as pd\n",
    "import numpy as np\n",
    "import time\n",
    "\n",
    "from statsmodels.graphics.tsaplots import plot_acf\n",
    "from statsmodels.tsa.stattools import adfuller"
   ]
  },
  {
   "cell_type": "code",
   "execution_count": null,
   "id": "0cc95196",
   "metadata": {},
   "outputs": [],
   "source": []
  },
  {
   "cell_type": "code",
   "execution_count": 37,
   "id": "4a161935",
   "metadata": {},
   "outputs": [],
   "source": [
    "sns.set_style('whitegrid')\n",
    "plt.rcParams['figure.figsize'] = (20,20)\n",
    "plt.style.use('tableau-colorblind10')"
   ]
  },
  {
   "cell_type": "code",
   "execution_count": 38,
   "id": "2544d3e8",
   "metadata": {},
   "outputs": [],
   "source": [
    "#Impoting German Holidays\n",
    "# cal_cls = get_german_holiday_calendar('NW')\n",
    "# cal = cal_cls()\n",
    "\n",
    "# holidays = [\n",
    "#         h.date() for h in pd.to_datetime(\n",
    "#                     cal.holidays(start='2012', end='2020')\n",
    "#                     )\n",
    "#         ]"
   ]
  },
  {
   "cell_type": "code",
   "execution_count": 40,
   "id": "2f4b5504",
   "metadata": {
    "scrolled": true
   },
   "outputs": [
    {
     "name": "stdout",
     "output_type": "stream",
     "text": [
      "hii\n"
     ]
    },
    {
     "data": {
      "text/html": [
       "<div>\n",
       "<style scoped>\n",
       "    .dataframe tbody tr th:only-of-type {\n",
       "        vertical-align: middle;\n",
       "    }\n",
       "\n",
       "    .dataframe tbody tr th {\n",
       "        vertical-align: top;\n",
       "    }\n",
       "\n",
       "    .dataframe thead th {\n",
       "        text-align: right;\n",
       "    }\n",
       "</style>\n",
       "<table border=\"1\" class=\"dataframe\">\n",
       "  <thead>\n",
       "    <tr style=\"text-align: right;\">\n",
       "      <th></th>\n",
       "      <th>Date</th>\n",
       "      <th>Item SKU Code</th>\n",
       "      <th>Sale</th>\n",
       "      <th>month</th>\n",
       "      <th>day_of_week</th>\n",
       "    </tr>\n",
       "  </thead>\n",
       "  <tbody>\n",
       "    <tr>\n",
       "      <th>0</th>\n",
       "      <td>2021-03-01 00:00:00</td>\n",
       "      <td>TLANJZ2KTWN0HL0DPY448NCH3HJZV3P</td>\n",
       "      <td>11</td>\n",
       "      <td>3</td>\n",
       "      <td>0</td>\n",
       "    </tr>\n",
       "    <tr>\n",
       "      <th>1</th>\n",
       "      <td>2021-03-01 00:00:00</td>\n",
       "      <td>TLPMBLXQ4CC4C3PQN6FS598VC0E08JJ</td>\n",
       "      <td>1</td>\n",
       "      <td>3</td>\n",
       "      <td>0</td>\n",
       "    </tr>\n",
       "    <tr>\n",
       "      <th>2</th>\n",
       "      <td>2021-03-01 00:00:00</td>\n",
       "      <td>TLPMBKFXKTX72MFQYYGYHN5JKBQXMG1</td>\n",
       "      <td>3</td>\n",
       "      <td>3</td>\n",
       "      <td>0</td>\n",
       "    </tr>\n",
       "    <tr>\n",
       "      <th>3</th>\n",
       "      <td>2021-03-01 00:00:00</td>\n",
       "      <td>TLPZY4DBFW5XVQMD7KGQ4P3XGQ8JZDM</td>\n",
       "      <td>1</td>\n",
       "      <td>3</td>\n",
       "      <td>0</td>\n",
       "    </tr>\n",
       "    <tr>\n",
       "      <th>4</th>\n",
       "      <td>2021-03-01 00:00:00</td>\n",
       "      <td>TLPMBE8XFMRM8DJDBVGNVPJPEDQX16X</td>\n",
       "      <td>4</td>\n",
       "      <td>3</td>\n",
       "      <td>0</td>\n",
       "    </tr>\n",
       "  </tbody>\n",
       "</table>\n",
       "</div>"
      ],
      "text/plain": [
       "                  Date                    Item SKU Code  Sale  month  \\\n",
       "0  2021-03-01 00:00:00  TLANJZ2KTWN0HL0DPY448NCH3HJZV3P    11      3   \n",
       "1  2021-03-01 00:00:00  TLPMBLXQ4CC4C3PQN6FS598VC0E08JJ     1      3   \n",
       "2  2021-03-01 00:00:00  TLPMBKFXKTX72MFQYYGYHN5JKBQXMG1     3      3   \n",
       "3  2021-03-01 00:00:00  TLPZY4DBFW5XVQMD7KGQ4P3XGQ8JZDM     1      3   \n",
       "4  2021-03-01 00:00:00  TLPMBE8XFMRM8DJDBVGNVPJPEDQX16X     4      3   \n",
       "\n",
       "   day_of_week  \n",
       "0            0  \n",
       "1            0  \n",
       "2            0  \n",
       "3            0  \n",
       "4            0  "
      ]
     },
     "execution_count": 40,
     "metadata": {},
     "output_type": "execute_result"
    }
   ],
   "source": [
    "#reading the data\n",
    "main_df = pd.read_csv('Sale_Data_ML.csv', parse_dates=True,index_col = 0)\n",
    "print(\"hii\")\n",
    "main_df.head()\n"
   ]
  },
  {
   "cell_type": "code",
   "execution_count": 41,
   "id": "045a5013",
   "metadata": {},
   "outputs": [],
   "source": [
    "main_df = main_df.loc[main_df['Item SKU Code'] == 'TLANJZ2KTWN0HL0DPY448NCH3HJZV3P']"
   ]
  },
  {
   "cell_type": "markdown",
   "id": "b35947bd",
   "metadata": {},
   "source": [
    "# Augmented Dickey-Fuller test"
   ]
  },
  {
   "cell_type": "markdown",
   "id": "eddb4e84",
   "metadata": {},
   "source": [
    "p-value > 0.05: Fail to reject the null hypothesis (H0), the data has a unit root and is non-stationary."
   ]
  },
  {
   "cell_type": "markdown",
   "id": "d5a8ab7f",
   "metadata": {},
   "source": [
    "p-value <= 0.05: Reject the null hypothesis (H0), the data does not have a unit root and is stationary."
   ]
  },
  {
   "cell_type": "code",
   "execution_count": 42,
   "id": "157f52b1",
   "metadata": {},
   "outputs": [
    {
     "name": "stdout",
     "output_type": "stream",
     "text": [
      "ADF Statistic: -2.060746\n",
      "p-value: 0.260589\n"
     ]
    }
   ],
   "source": [
    "X_1 = main_df.Sale\n",
    "result = adfuller(X_1)\n",
    "print('ADF Statistic: %f' % result[0])\n",
    "print('p-value: %f' % result[1])\n",
    "# print('Critical Values:')\n",
    "# for key, value in result[4].items():\n",
    "# \tprint('\\t%s: %.3f' % (key, value))"
   ]
  },
  {
   "cell_type": "markdown",
   "id": "8a5e38ba",
   "metadata": {},
   "source": [
    "As the p-value is <= 0.05 our hypothesis is failed and the data is stationary "
   ]
  },
  {
   "cell_type": "markdown",
   "id": "9eb6aedc",
   "metadata": {},
   "source": []
  },
  {
   "cell_type": "code",
   "execution_count": 43,
   "id": "6ba794d5",
   "metadata": {},
   "outputs": [
    {
     "data": {
      "text/html": [
       "<div>\n",
       "<style scoped>\n",
       "    .dataframe tbody tr th:only-of-type {\n",
       "        vertical-align: middle;\n",
       "    }\n",
       "\n",
       "    .dataframe tbody tr th {\n",
       "        vertical-align: top;\n",
       "    }\n",
       "\n",
       "    .dataframe thead th {\n",
       "        text-align: right;\n",
       "    }\n",
       "</style>\n",
       "<table border=\"1\" class=\"dataframe\">\n",
       "  <thead>\n",
       "    <tr style=\"text-align: right;\">\n",
       "      <th></th>\n",
       "      <th>Sale</th>\n",
       "    </tr>\n",
       "    <tr>\n",
       "      <th>Date</th>\n",
       "      <th></th>\n",
       "    </tr>\n",
       "  </thead>\n",
       "  <tbody>\n",
       "    <tr>\n",
       "      <th>2021-03-01</th>\n",
       "      <td>11</td>\n",
       "    </tr>\n",
       "    <tr>\n",
       "      <th>2021-03-02</th>\n",
       "      <td>1</td>\n",
       "    </tr>\n",
       "    <tr>\n",
       "      <th>2021-03-03</th>\n",
       "      <td>5</td>\n",
       "    </tr>\n",
       "    <tr>\n",
       "      <th>2021-03-05</th>\n",
       "      <td>5</td>\n",
       "    </tr>\n",
       "    <tr>\n",
       "      <th>2021-03-06</th>\n",
       "      <td>19</td>\n",
       "    </tr>\n",
       "  </tbody>\n",
       "</table>\n",
       "</div>"
      ],
      "text/plain": [
       "            Sale\n",
       "Date            \n",
       "2021-03-01    11\n",
       "2021-03-02     1\n",
       "2021-03-03     5\n",
       "2021-03-05     5\n",
       "2021-03-06    19"
      ]
     },
     "execution_count": 43,
     "metadata": {},
     "output_type": "execute_result"
    }
   ],
   "source": [
    "#making date as index\n",
    "main_df['Date'] = pd.to_datetime(main_df['Date']).dt.date\n",
    "main_df = pd.DataFrame(main_df.groupby(main_df['Date'])['Sale'].sum())\n",
    "main_df.head()\n"
   ]
  },
  {
   "cell_type": "code",
   "execution_count": 44,
   "id": "ea15f83c",
   "metadata": {},
   "outputs": [
    {
     "data": {
      "text/html": [
       "<div>\n",
       "<style scoped>\n",
       "    .dataframe tbody tr th:only-of-type {\n",
       "        vertical-align: middle;\n",
       "    }\n",
       "\n",
       "    .dataframe tbody tr th {\n",
       "        vertical-align: top;\n",
       "    }\n",
       "\n",
       "    .dataframe thead th {\n",
       "        text-align: right;\n",
       "    }\n",
       "</style>\n",
       "<table border=\"1\" class=\"dataframe\">\n",
       "  <thead>\n",
       "    <tr style=\"text-align: right;\">\n",
       "      <th></th>\n",
       "      <th>Sale</th>\n",
       "    </tr>\n",
       "  </thead>\n",
       "  <tbody>\n",
       "    <tr>\n",
       "      <th>count</th>\n",
       "      <td>85.000000</td>\n",
       "    </tr>\n",
       "    <tr>\n",
       "      <th>mean</th>\n",
       "      <td>12.388235</td>\n",
       "    </tr>\n",
       "    <tr>\n",
       "      <th>std</th>\n",
       "      <td>10.007252</td>\n",
       "    </tr>\n",
       "    <tr>\n",
       "      <th>min</th>\n",
       "      <td>1.000000</td>\n",
       "    </tr>\n",
       "    <tr>\n",
       "      <th>25%</th>\n",
       "      <td>5.000000</td>\n",
       "    </tr>\n",
       "    <tr>\n",
       "      <th>50%</th>\n",
       "      <td>9.000000</td>\n",
       "    </tr>\n",
       "    <tr>\n",
       "      <th>75%</th>\n",
       "      <td>16.000000</td>\n",
       "    </tr>\n",
       "    <tr>\n",
       "      <th>max</th>\n",
       "      <td>52.000000</td>\n",
       "    </tr>\n",
       "  </tbody>\n",
       "</table>\n",
       "</div>"
      ],
      "text/plain": [
       "            Sale\n",
       "count  85.000000\n",
       "mean   12.388235\n",
       "std    10.007252\n",
       "min     1.000000\n",
       "25%     5.000000\n",
       "50%     9.000000\n",
       "75%    16.000000\n",
       "max    52.000000"
      ]
     },
     "execution_count": 44,
     "metadata": {},
     "output_type": "execute_result"
    }
   ],
   "source": [
    "#describing the updated dataframe\n",
    "main_df.describe()"
   ]
  },
  {
   "cell_type": "code",
   "execution_count": 45,
   "id": "1fb114ef",
   "metadata": {},
   "outputs": [
    {
     "data": {
      "text/plain": [
       "Sale    0\n",
       "dtype: int64"
      ]
     },
     "execution_count": 45,
     "metadata": {},
     "output_type": "execute_result"
    }
   ],
   "source": [
    "#Checking Null values in DataFrame\n",
    "main_df.isnull().sum()"
   ]
  },
  {
   "cell_type": "code",
   "execution_count": 46,
   "id": "e63dbf09",
   "metadata": {
    "scrolled": true
   },
   "outputs": [
    {
     "data": {
      "text/plain": [
       "Text(0.5, 1.0, 'Original dataset with no. of daiy sales')"
      ]
     },
     "execution_count": 46,
     "metadata": {},
     "output_type": "execute_result"
    },
    {
     "data": {
      "image/png": "[encoded data removed]",
      "text/plain": [
       "<Figure size 1152x360 with 1 Axes>"
      ]
     },
     "metadata": {},
     "output_type": "display_data"
    }
   ],
   "source": [
    "#plotting the data to describe the no.of daily sales\n",
    "main_df.plot(figsize=(16,5))\n",
    "plt.title('Original dataset with no. of daiy sales')\n"
   ]
  },
  {
   "cell_type": "code",
   "execution_count": 47,
   "id": "8870171c",
   "metadata": {},
   "outputs": [
    {
     "data": {
      "text/html": [
       "<div>\n",
       "<style scoped>\n",
       "    .dataframe tbody tr th:only-of-type {\n",
       "        vertical-align: middle;\n",
       "    }\n",
       "\n",
       "    .dataframe tbody tr th {\n",
       "        vertical-align: top;\n",
       "    }\n",
       "\n",
       "    .dataframe thead th {\n",
       "        text-align: right;\n",
       "    }\n",
       "</style>\n",
       "<table border=\"1\" class=\"dataframe\">\n",
       "  <thead>\n",
       "    <tr style=\"text-align: right;\">\n",
       "      <th></th>\n",
       "      <th>Date</th>\n",
       "      <th>Sale</th>\n",
       "      <th>Date_temp</th>\n",
       "    </tr>\n",
       "  </thead>\n",
       "  <tbody>\n",
       "    <tr>\n",
       "      <th>0</th>\n",
       "      <td>2021-03-01</td>\n",
       "      <td>11</td>\n",
       "      <td>2021-03-01</td>\n",
       "    </tr>\n",
       "    <tr>\n",
       "      <th>1</th>\n",
       "      <td>2021-03-02</td>\n",
       "      <td>1</td>\n",
       "      <td>2021-03-02</td>\n",
       "    </tr>\n",
       "    <tr>\n",
       "      <th>2</th>\n",
       "      <td>2021-03-03</td>\n",
       "      <td>5</td>\n",
       "      <td>2021-03-03</td>\n",
       "    </tr>\n",
       "    <tr>\n",
       "      <th>3</th>\n",
       "      <td>2021-03-05</td>\n",
       "      <td>5</td>\n",
       "      <td>2021-03-05</td>\n",
       "    </tr>\n",
       "    <tr>\n",
       "      <th>4</th>\n",
       "      <td>2021-03-06</td>\n",
       "      <td>19</td>\n",
       "      <td>2021-03-06</td>\n",
       "    </tr>\n",
       "  </tbody>\n",
       "</table>\n",
       "</div>"
      ],
      "text/plain": [
       "         Date  Sale   Date_temp\n",
       "0  2021-03-01    11  2021-03-01\n",
       "1  2021-03-02     1  2021-03-02\n",
       "2  2021-03-03     5  2021-03-03\n",
       "3  2021-03-05     5  2021-03-05\n",
       "4  2021-03-06    19  2021-03-06"
      ]
     },
     "execution_count": 47,
     "metadata": {},
     "output_type": "execute_result"
    }
   ],
   "source": [
    "#Check the above graph to decide where to split train and test data\n",
    "\n",
    "training_df = main_df.groupby(['Date'])['Sale'].sum().reset_index()\n",
    "training_df['Date_temp'] = pd.to_datetime(training_df['Date']).dt.date\n",
    "training_df.head()\n"
   ]
  },
  {
   "cell_type": "code",
   "execution_count": 48,
   "id": "e8eea08d",
   "metadata": {},
   "outputs": [
    {
     "name": "stdout",
     "output_type": "stream",
     "text": [
      "Figure(1440x1440)\n"
     ]
    },
    {
     "data": {
      "image/png": "[encoded data removed]",
      "text/plain": [
       "<Figure size 1440x1440 with 1 Axes>"
      ]
     },
     "metadata": {},
     "output_type": "display_data"
    }
   ],
   "source": [
    "print(plot_acf(main_df, lags=20))"
   ]
  },
  {
   "cell_type": "code",
   "execution_count": 49,
   "id": "a7807436",
   "metadata": {},
   "outputs": [
    {
     "data": {
      "text/html": [
       "<div>\n",
       "<style scoped>\n",
       "    .dataframe tbody tr th:only-of-type {\n",
       "        vertical-align: middle;\n",
       "    }\n",
       "\n",
       "    .dataframe tbody tr th {\n",
       "        vertical-align: top;\n",
       "    }\n",
       "\n",
       "    .dataframe thead th {\n",
       "        text-align: right;\n",
       "    }\n",
       "</style>\n",
       "<table border=\"1\" class=\"dataframe\">\n",
       "  <thead>\n",
       "    <tr style=\"text-align: right;\">\n",
       "      <th></th>\n",
       "      <th>Date</th>\n",
       "      <th>Sale</th>\n",
       "      <th>Date_temp</th>\n",
       "    </tr>\n",
       "  </thead>\n",
       "  <tbody>\n",
       "    <tr>\n",
       "      <th>0</th>\n",
       "      <td>2021-03-01</td>\n",
       "      <td>11</td>\n",
       "      <td>2021-03-01</td>\n",
       "    </tr>\n",
       "    <tr>\n",
       "      <th>1</th>\n",
       "      <td>2021-03-02</td>\n",
       "      <td>1</td>\n",
       "      <td>2021-03-02</td>\n",
       "    </tr>\n",
       "    <tr>\n",
       "      <th>2</th>\n",
       "      <td>2021-03-03</td>\n",
       "      <td>5</td>\n",
       "      <td>2021-03-03</td>\n",
       "    </tr>\n",
       "    <tr>\n",
       "      <th>3</th>\n",
       "      <td>2021-03-05</td>\n",
       "      <td>5</td>\n",
       "      <td>2021-03-05</td>\n",
       "    </tr>\n",
       "    <tr>\n",
       "      <th>4</th>\n",
       "      <td>2021-03-06</td>\n",
       "      <td>19</td>\n",
       "      <td>2021-03-06</td>\n",
       "    </tr>\n",
       "  </tbody>\n",
       "</table>\n",
       "</div>"
      ],
      "text/plain": [
       "        Date  Sale   Date_temp\n",
       "0 2021-03-01    11  2021-03-01\n",
       "1 2021-03-02     1  2021-03-02\n",
       "2 2021-03-03     5  2021-03-03\n",
       "3 2021-03-05     5  2021-03-05\n",
       "4 2021-03-06    19  2021-03-06"
      ]
     },
     "execution_count": 49,
     "metadata": {},
     "output_type": "execute_result"
    }
   ],
   "source": [
    "# training_df = training_df[training_df['Date'].isin(holidays) == False]\n",
    "training_df['Date'] = pd.to_datetime(training_df['Date'])\n",
    "training_df.head()"
   ]
  },
  {
   "cell_type": "code",
   "execution_count": 64,
   "id": "7dd72479",
   "metadata": {},
   "outputs": [
    {
     "data": {
      "text/plain": [
       "(85, 2)"
      ]
     },
     "execution_count": 64,
     "metadata": {},
     "output_type": "execute_result"
    }
   ],
   "source": [
    "training_df.shape"
   ]
  },
  {
   "cell_type": "code",
   "execution_count": 66,
   "id": "baaa08d6",
   "metadata": {
    "scrolled": true
   },
   "outputs": [],
   "source": [
    "#splitting data on setting index\n",
    "training_df.set_index('Date', inplace=True)\n"
   ]
  },
  {
   "cell_type": "code",
   "execution_count": 67,
   "id": "fcd13856",
   "metadata": {},
   "outputs": [
    {
     "data": {
      "text/html": [
       "<div>\n",
       "<style scoped>\n",
       "    .dataframe tbody tr th:only-of-type {\n",
       "        vertical-align: middle;\n",
       "    }\n",
       "\n",
       "    .dataframe tbody tr th {\n",
       "        vertical-align: top;\n",
       "    }\n",
       "\n",
       "    .dataframe thead th {\n",
       "        text-align: right;\n",
       "    }\n",
       "</style>\n",
       "<table border=\"1\" class=\"dataframe\">\n",
       "  <thead>\n",
       "    <tr style=\"text-align: right;\">\n",
       "      <th></th>\n",
       "      <th>Sale</th>\n",
       "      <th>Date_temp</th>\n",
       "    </tr>\n",
       "    <tr>\n",
       "      <th>Date</th>\n",
       "      <th></th>\n",
       "      <th></th>\n",
       "    </tr>\n",
       "  </thead>\n",
       "  <tbody>\n",
       "    <tr>\n",
       "      <th>2021-03-01</th>\n",
       "      <td>11</td>\n",
       "      <td>2021-03-01</td>\n",
       "    </tr>\n",
       "    <tr>\n",
       "      <th>2021-03-02</th>\n",
       "      <td>1</td>\n",
       "      <td>2021-03-02</td>\n",
       "    </tr>\n",
       "    <tr>\n",
       "      <th>2021-03-03</th>\n",
       "      <td>5</td>\n",
       "      <td>2021-03-03</td>\n",
       "    </tr>\n",
       "    <tr>\n",
       "      <th>2021-03-05</th>\n",
       "      <td>5</td>\n",
       "      <td>2021-03-05</td>\n",
       "    </tr>\n",
       "    <tr>\n",
       "      <th>2021-03-06</th>\n",
       "      <td>19</td>\n",
       "      <td>2021-03-06</td>\n",
       "    </tr>\n",
       "  </tbody>\n",
       "</table>\n",
       "</div>"
      ],
      "text/plain": [
       "            Sale   Date_temp\n",
       "Date                        \n",
       "2021-03-01    11  2021-03-01\n",
       "2021-03-02     1  2021-03-02\n",
       "2021-03-03     5  2021-03-03\n",
       "2021-03-05     5  2021-03-05\n",
       "2021-03-06    19  2021-03-06"
      ]
     },
     "execution_count": 67,
     "metadata": {},
     "output_type": "execute_result"
    }
   ],
   "source": [
    "training_df.head()"
   ]
  },
  {
   "cell_type": "code",
   "execution_count": 60,
   "id": "340a180d",
   "metadata": {},
   "outputs": [
    {
     "data": {
      "text/html": [
       "<div>\n",
       "<style scoped>\n",
       "    .dataframe tbody tr th:only-of-type {\n",
       "        vertical-align: middle;\n",
       "    }\n",
       "\n",
       "    .dataframe tbody tr th {\n",
       "        vertical-align: top;\n",
       "    }\n",
       "\n",
       "    .dataframe thead th {\n",
       "        text-align: right;\n",
       "    }\n",
       "</style>\n",
       "<table border=\"1\" class=\"dataframe\">\n",
       "  <thead>\n",
       "    <tr style=\"text-align: right;\">\n",
       "      <th></th>\n",
       "      <th>Sale</th>\n",
       "      <th>Date_temp</th>\n",
       "    </tr>\n",
       "    <tr>\n",
       "      <th>Date</th>\n",
       "      <th></th>\n",
       "      <th></th>\n",
       "    </tr>\n",
       "  </thead>\n",
       "  <tbody>\n",
       "    <tr>\n",
       "      <th>2021-04-01</th>\n",
       "      <td>7</td>\n",
       "      <td>2021-04-01</td>\n",
       "    </tr>\n",
       "    <tr>\n",
       "      <th>2021-04-02</th>\n",
       "      <td>8</td>\n",
       "      <td>2021-04-02</td>\n",
       "    </tr>\n",
       "    <tr>\n",
       "      <th>2021-04-03</th>\n",
       "      <td>10</td>\n",
       "      <td>2021-04-03</td>\n",
       "    </tr>\n",
       "    <tr>\n",
       "      <th>2021-04-04</th>\n",
       "      <td>14</td>\n",
       "      <td>2021-04-04</td>\n",
       "    </tr>\n",
       "    <tr>\n",
       "      <th>2021-04-05</th>\n",
       "      <td>2</td>\n",
       "      <td>2021-04-05</td>\n",
       "    </tr>\n",
       "  </tbody>\n",
       "</table>\n",
       "</div>"
      ],
      "text/plain": [
       "            Sale   Date_temp\n",
       "Date                        \n",
       "2021-04-01     7  2021-04-01\n",
       "2021-04-02     8  2021-04-02\n",
       "2021-04-03    10  2021-04-03\n",
       "2021-04-04    14  2021-04-04\n",
       "2021-04-05     2  2021-04-05"
      ]
     },
     "execution_count": 60,
     "metadata": {},
     "output_type": "execute_result"
    }
   ],
   "source": [
    "training_df.head()"
   ]
  },
  {
   "cell_type": "code",
   "execution_count": 68,
   "id": "7ca136ee",
   "metadata": {},
   "outputs": [
    {
     "data": {
      "text/plain": [
       "(85, 2)"
      ]
     },
     "execution_count": 68,
     "metadata": {},
     "output_type": "execute_result"
    }
   ],
   "source": [
    "training_df.shape"
   ]
  },
  {
   "cell_type": "code",
   "execution_count": 69,
   "id": "ee5e4127",
   "metadata": {},
   "outputs": [
    {
     "data": {
      "text/plain": [
       "Text(0.5, 1.0, 'Training data for LANJZ2KTWN0HL0DPY448NCH3HJZV3P')"
      ]
     },
     "execution_count": 69,
     "metadata": {},
     "output_type": "execute_result"
    },
    {
     "data": {
      "image/png": "[encoded data removed]",
      "text/plain": [
       "<Figure size 1152x432 with 1 Axes>"
      ]
     },
     "metadata": {},
     "output_type": "display_data"
    }
   ],
   "source": [
    "#training data from the date we choosen from 2012\n",
    "training_df.plot(figsize=(16,6))\n",
    "plt.title('Training data for LANJZ2KTWN0HL0DPY448NCH3HJZV3P')"
   ]
  },
  {
   "cell_type": "code",
   "execution_count": 70,
   "id": "6028f19b",
   "metadata": {},
   "outputs": [
    {
     "data": {
      "text/html": [
       "<div>\n",
       "<style scoped>\n",
       "    .dataframe tbody tr th:only-of-type {\n",
       "        vertical-align: middle;\n",
       "    }\n",
       "\n",
       "    .dataframe tbody tr th {\n",
       "        vertical-align: top;\n",
       "    }\n",
       "\n",
       "    .dataframe thead th {\n",
       "        text-align: right;\n",
       "    }\n",
       "</style>\n",
       "<table border=\"1\" class=\"dataframe\">\n",
       "  <thead>\n",
       "    <tr style=\"text-align: right;\">\n",
       "      <th></th>\n",
       "      <th>Sale</th>\n",
       "      <th>Date_temp</th>\n",
       "    </tr>\n",
       "    <tr>\n",
       "      <th>Date</th>\n",
       "      <th></th>\n",
       "      <th></th>\n",
       "    </tr>\n",
       "  </thead>\n",
       "  <tbody>\n",
       "    <tr>\n",
       "      <th>2021-03-01</th>\n",
       "      <td>11</td>\n",
       "      <td>2021-03-01</td>\n",
       "    </tr>\n",
       "    <tr>\n",
       "      <th>2021-03-02</th>\n",
       "      <td>1</td>\n",
       "      <td>2021-03-02</td>\n",
       "    </tr>\n",
       "    <tr>\n",
       "      <th>2021-03-03</th>\n",
       "      <td>5</td>\n",
       "      <td>2021-03-03</td>\n",
       "    </tr>\n",
       "    <tr>\n",
       "      <th>2021-03-05</th>\n",
       "      <td>5</td>\n",
       "      <td>2021-03-05</td>\n",
       "    </tr>\n",
       "    <tr>\n",
       "      <th>2021-03-06</th>\n",
       "      <td>19</td>\n",
       "      <td>2021-03-06</td>\n",
       "    </tr>\n",
       "  </tbody>\n",
       "</table>\n",
       "</div>"
      ],
      "text/plain": [
       "            Sale   Date_temp\n",
       "Date                        \n",
       "2021-03-01    11  2021-03-01\n",
       "2021-03-02     1  2021-03-02\n",
       "2021-03-03     5  2021-03-03\n",
       "2021-03-05     5  2021-03-05\n",
       "2021-03-06    19  2021-03-06"
      ]
     },
     "execution_count": 70,
     "metadata": {},
     "output_type": "execute_result"
    }
   ],
   "source": [
    "training_df.head()"
   ]
  },
  {
   "cell_type": "code",
   "execution_count": 71,
   "id": "74a1f8be",
   "metadata": {},
   "outputs": [
    {
     "data": {
      "text/html": [
       "<div>\n",
       "<style scoped>\n",
       "    .dataframe tbody tr th:only-of-type {\n",
       "        vertical-align: middle;\n",
       "    }\n",
       "\n",
       "    .dataframe tbody tr th {\n",
       "        vertical-align: top;\n",
       "    }\n",
       "\n",
       "    .dataframe thead th {\n",
       "        text-align: right;\n",
       "    }\n",
       "</style>\n",
       "<table border=\"1\" class=\"dataframe\">\n",
       "  <thead>\n",
       "    <tr style=\"text-align: right;\">\n",
       "      <th></th>\n",
       "      <th>Sale</th>\n",
       "    </tr>\n",
       "  </thead>\n",
       "  <tbody>\n",
       "    <tr>\n",
       "      <th>count</th>\n",
       "      <td>85.000000</td>\n",
       "    </tr>\n",
       "    <tr>\n",
       "      <th>mean</th>\n",
       "      <td>12.388235</td>\n",
       "    </tr>\n",
       "    <tr>\n",
       "      <th>std</th>\n",
       "      <td>10.007252</td>\n",
       "    </tr>\n",
       "    <tr>\n",
       "      <th>min</th>\n",
       "      <td>1.000000</td>\n",
       "    </tr>\n",
       "    <tr>\n",
       "      <th>25%</th>\n",
       "      <td>5.000000</td>\n",
       "    </tr>\n",
       "    <tr>\n",
       "      <th>50%</th>\n",
       "      <td>9.000000</td>\n",
       "    </tr>\n",
       "    <tr>\n",
       "      <th>75%</th>\n",
       "      <td>16.000000</td>\n",
       "    </tr>\n",
       "    <tr>\n",
       "      <th>max</th>\n",
       "      <td>52.000000</td>\n",
       "    </tr>\n",
       "  </tbody>\n",
       "</table>\n",
       "</div>"
      ],
      "text/plain": [
       "            Sale\n",
       "count  85.000000\n",
       "mean   12.388235\n",
       "std    10.007252\n",
       "min     1.000000\n",
       "25%     5.000000\n",
       "50%     9.000000\n",
       "75%    16.000000\n",
       "max    52.000000"
      ]
     },
     "execution_count": 71,
     "metadata": {},
     "output_type": "execute_result"
    }
   ],
   "source": [
    "#describing the traning dataset\n",
    "training_df.describe()"
   ]
  },
  {
   "cell_type": "code",
   "execution_count": 73,
   "id": "823bb75c",
   "metadata": {},
   "outputs": [],
   "source": [
    "#Extracting more info settings for the xgboost\n",
    "training_df['Year'] = pd.to_datetime(training_df['Date_temp']).dt.year\n",
    "training_df['Week'] = pd.to_datetime(training_df['Date_temp']).dt.week\n",
    "training_df['Day'] = pd.to_datetime(training_df['Date_temp']).dt.day\n",
    "training_df['WeekDay'] = pd.to_datetime(training_df['Date_temp']).dt.dayofweek\n",
    "#input sequence(t-n,...t-1)\n",
    "for i in range(7,0,-1):\n",
    "    training_df['lag' + str(i)] = training_df['Sale'].shift(i)\n",
    "\n",
    "# training_df['Weekend'] = training_df.WeekDay.isin([5, 6]).astype(int)\n",
    "\"data Frame after adding more info as columns\"\n",
    "training_df.head()\n",
    "training_df.dropna(inplace=True)"
   ]
  },
  {
   "cell_type": "code",
   "execution_count": 74,
   "id": "050c0bfc",
   "metadata": {},
   "outputs": [
    {
     "data": {
      "text/html": [
       "<div>\n",
       "<style scoped>\n",
       "    .dataframe tbody tr th:only-of-type {\n",
       "        vertical-align: middle;\n",
       "    }\n",
       "\n",
       "    .dataframe tbody tr th {\n",
       "        vertical-align: top;\n",
       "    }\n",
       "\n",
       "    .dataframe thead th {\n",
       "        text-align: right;\n",
       "    }\n",
       "</style>\n",
       "<table border=\"1\" class=\"dataframe\">\n",
       "  <thead>\n",
       "    <tr style=\"text-align: right;\">\n",
       "      <th></th>\n",
       "      <th>Sale</th>\n",
       "      <th>Year</th>\n",
       "      <th>Week</th>\n",
       "      <th>Day</th>\n",
       "      <th>WeekDay</th>\n",
       "      <th>lag7</th>\n",
       "      <th>lag6</th>\n",
       "      <th>lag5</th>\n",
       "      <th>lag4</th>\n",
       "      <th>lag3</th>\n",
       "      <th>lag2</th>\n",
       "      <th>lag1</th>\n",
       "    </tr>\n",
       "  </thead>\n",
       "  <tbody>\n",
       "    <tr>\n",
       "      <th>Sale</th>\n",
       "      <td>1.000000</td>\n",
       "      <td>NaN</td>\n",
       "      <td>0.595059</td>\n",
       "      <td>0.296394</td>\n",
       "      <td>0.197396</td>\n",
       "      <td>0.446213</td>\n",
       "      <td>0.500814</td>\n",
       "      <td>0.466368</td>\n",
       "      <td>0.518326</td>\n",
       "      <td>0.617564</td>\n",
       "      <td>0.610178</td>\n",
       "      <td>0.684150</td>\n",
       "    </tr>\n",
       "    <tr>\n",
       "      <th>Year</th>\n",
       "      <td>NaN</td>\n",
       "      <td>NaN</td>\n",
       "      <td>NaN</td>\n",
       "      <td>NaN</td>\n",
       "      <td>NaN</td>\n",
       "      <td>NaN</td>\n",
       "      <td>NaN</td>\n",
       "      <td>NaN</td>\n",
       "      <td>NaN</td>\n",
       "      <td>NaN</td>\n",
       "      <td>NaN</td>\n",
       "      <td>NaN</td>\n",
       "    </tr>\n",
       "    <tr>\n",
       "      <th>Week</th>\n",
       "      <td>0.595059</td>\n",
       "      <td>NaN</td>\n",
       "      <td>1.000000</td>\n",
       "      <td>0.252743</td>\n",
       "      <td>-0.052114</td>\n",
       "      <td>0.508574</td>\n",
       "      <td>0.536715</td>\n",
       "      <td>0.558605</td>\n",
       "      <td>0.571300</td>\n",
       "      <td>0.591487</td>\n",
       "      <td>0.630248</td>\n",
       "      <td>0.640667</td>\n",
       "    </tr>\n",
       "    <tr>\n",
       "      <th>Day</th>\n",
       "      <td>0.296394</td>\n",
       "      <td>NaN</td>\n",
       "      <td>0.252743</td>\n",
       "      <td>1.000000</td>\n",
       "      <td>-0.015289</td>\n",
       "      <td>0.403208</td>\n",
       "      <td>0.403086</td>\n",
       "      <td>0.411636</td>\n",
       "      <td>0.349259</td>\n",
       "      <td>0.307761</td>\n",
       "      <td>0.282032</td>\n",
       "      <td>0.277378</td>\n",
       "    </tr>\n",
       "    <tr>\n",
       "      <th>WeekDay</th>\n",
       "      <td>0.197396</td>\n",
       "      <td>NaN</td>\n",
       "      <td>-0.052114</td>\n",
       "      <td>-0.015289</td>\n",
       "      <td>1.000000</td>\n",
       "      <td>0.225940</td>\n",
       "      <td>0.158502</td>\n",
       "      <td>0.037418</td>\n",
       "      <td>0.039239</td>\n",
       "      <td>-0.114252</td>\n",
       "      <td>-0.135306</td>\n",
       "      <td>-0.068956</td>\n",
       "    </tr>\n",
       "    <tr>\n",
       "      <th>lag7</th>\n",
       "      <td>0.446213</td>\n",
       "      <td>NaN</td>\n",
       "      <td>0.508574</td>\n",
       "      <td>0.403208</td>\n",
       "      <td>0.225940</td>\n",
       "      <td>1.000000</td>\n",
       "      <td>0.647337</td>\n",
       "      <td>0.560446</td>\n",
       "      <td>0.590012</td>\n",
       "      <td>0.508732</td>\n",
       "      <td>0.488309</td>\n",
       "      <td>0.513994</td>\n",
       "    </tr>\n",
       "    <tr>\n",
       "      <th>lag6</th>\n",
       "      <td>0.500814</td>\n",
       "      <td>NaN</td>\n",
       "      <td>0.536715</td>\n",
       "      <td>0.403086</td>\n",
       "      <td>0.158502</td>\n",
       "      <td>0.647337</td>\n",
       "      <td>1.000000</td>\n",
       "      <td>0.661783</td>\n",
       "      <td>0.573863</td>\n",
       "      <td>0.601386</td>\n",
       "      <td>0.520054</td>\n",
       "      <td>0.503279</td>\n",
       "    </tr>\n",
       "    <tr>\n",
       "      <th>lag5</th>\n",
       "      <td>0.466368</td>\n",
       "      <td>NaN</td>\n",
       "      <td>0.558605</td>\n",
       "      <td>0.411636</td>\n",
       "      <td>0.037418</td>\n",
       "      <td>0.560446</td>\n",
       "      <td>0.661783</td>\n",
       "      <td>1.000000</td>\n",
       "      <td>0.673224</td>\n",
       "      <td>0.584082</td>\n",
       "      <td>0.625246</td>\n",
       "      <td>0.541324</td>\n",
       "    </tr>\n",
       "    <tr>\n",
       "      <th>lag4</th>\n",
       "      <td>0.518326</td>\n",
       "      <td>NaN</td>\n",
       "      <td>0.571300</td>\n",
       "      <td>0.349259</td>\n",
       "      <td>0.039239</td>\n",
       "      <td>0.590012</td>\n",
       "      <td>0.573863</td>\n",
       "      <td>0.673224</td>\n",
       "      <td>1.000000</td>\n",
       "      <td>0.680157</td>\n",
       "      <td>0.602701</td>\n",
       "      <td>0.637236</td>\n",
       "    </tr>\n",
       "    <tr>\n",
       "      <th>lag3</th>\n",
       "      <td>0.617564</td>\n",
       "      <td>NaN</td>\n",
       "      <td>0.591487</td>\n",
       "      <td>0.307761</td>\n",
       "      <td>-0.114252</td>\n",
       "      <td>0.508732</td>\n",
       "      <td>0.601386</td>\n",
       "      <td>0.584082</td>\n",
       "      <td>0.680157</td>\n",
       "      <td>1.000000</td>\n",
       "      <td>0.696831</td>\n",
       "      <td>0.612858</td>\n",
       "    </tr>\n",
       "    <tr>\n",
       "      <th>lag2</th>\n",
       "      <td>0.610178</td>\n",
       "      <td>NaN</td>\n",
       "      <td>0.630248</td>\n",
       "      <td>0.282032</td>\n",
       "      <td>-0.135306</td>\n",
       "      <td>0.488309</td>\n",
       "      <td>0.520054</td>\n",
       "      <td>0.625246</td>\n",
       "      <td>0.602701</td>\n",
       "      <td>0.696831</td>\n",
       "      <td>1.000000</td>\n",
       "      <td>0.709736</td>\n",
       "    </tr>\n",
       "    <tr>\n",
       "      <th>lag1</th>\n",
       "      <td>0.684150</td>\n",
       "      <td>NaN</td>\n",
       "      <td>0.640667</td>\n",
       "      <td>0.277378</td>\n",
       "      <td>-0.068956</td>\n",
       "      <td>0.513994</td>\n",
       "      <td>0.503279</td>\n",
       "      <td>0.541324</td>\n",
       "      <td>0.637236</td>\n",
       "      <td>0.612858</td>\n",
       "      <td>0.709736</td>\n",
       "      <td>1.000000</td>\n",
       "    </tr>\n",
       "  </tbody>\n",
       "</table>\n",
       "</div>"
      ],
      "text/plain": [
       "             Sale  Year      Week       Day   WeekDay      lag7      lag6  \\\n",
       "Sale     1.000000   NaN  0.595059  0.296394  0.197396  0.446213  0.500814   \n",
       "Year          NaN   NaN       NaN       NaN       NaN       NaN       NaN   \n",
       "Week     0.595059   NaN  1.000000  0.252743 -0.052114  0.508574  0.536715   \n",
       "Day      0.296394   NaN  0.252743  1.000000 -0.015289  0.403208  0.403086   \n",
       "WeekDay  0.197396   NaN -0.052114 -0.015289  1.000000  0.225940  0.158502   \n",
       "lag7     0.446213   NaN  0.508574  0.403208  0.225940  1.000000  0.647337   \n",
       "lag6     0.500814   NaN  0.536715  0.403086  0.158502  0.647337  1.000000   \n",
       "lag5     0.466368   NaN  0.558605  0.411636  0.037418  0.560446  0.661783   \n",
       "lag4     0.518326   NaN  0.571300  0.349259  0.039239  0.590012  0.573863   \n",
       "lag3     0.617564   NaN  0.591487  0.307761 -0.114252  0.508732  0.601386   \n",
       "lag2     0.610178   NaN  0.630248  0.282032 -0.135306  0.488309  0.520054   \n",
       "lag1     0.684150   NaN  0.640667  0.277378 -0.068956  0.513994  0.503279   \n",
       "\n",
       "             lag5      lag4      lag3      lag2      lag1  \n",
       "Sale     0.466368  0.518326  0.617564  0.610178  0.684150  \n",
       "Year          NaN       NaN       NaN       NaN       NaN  \n",
       "Week     0.558605  0.571300  0.591487  0.630248  0.640667  \n",
       "Day      0.411636  0.349259  0.307761  0.282032  0.277378  \n",
       "WeekDay  0.037418  0.039239 -0.114252 -0.135306 -0.068956  \n",
       "lag7     0.560446  0.590012  0.508732  0.488309  0.513994  \n",
       "lag6     0.661783  0.573863  0.601386  0.520054  0.503279  \n",
       "lag5     1.000000  0.673224  0.584082  0.625246  0.541324  \n",
       "lag4     0.673224  1.000000  0.680157  0.602701  0.637236  \n",
       "lag3     0.584082  0.680157  1.000000  0.696831  0.612858  \n",
       "lag2     0.625246  0.602701  0.696831  1.000000  0.709736  \n",
       "lag1     0.541324  0.637236  0.612858  0.709736  1.000000  "
      ]
     },
     "execution_count": 74,
     "metadata": {},
     "output_type": "execute_result"
    }
   ],
   "source": [
    "#finding corr between features added as columns\n",
    "training_df.corr()"
   ]
  },
  {
   "cell_type": "code",
   "execution_count": 76,
   "id": "72cbfd8f",
   "metadata": {},
   "outputs": [
    {
     "data": {
      "text/plain": [
       "<AxesSubplot:xlabel='Sale'>"
      ]
     },
     "execution_count": 76,
     "metadata": {},
     "output_type": "execute_result"
    },
    {
     "data": {
      "image/png": "[encoded data removed]",
      "text/plain": [
       "<Figure size 1440x1440 with 1 Axes>"
      ]
     },
     "metadata": {},
     "output_type": "display_data"
    }
   ],
   "source": [
    "#ploting Sold Units boxplot\n",
    "sns.boxplot(x=training_df['Sale'])"
   ]
  },
  {
   "cell_type": "code",
   "execution_count": 77,
   "id": "09fdc89f",
   "metadata": {},
   "outputs": [
    {
     "data": {
      "text/plain": [
       "<AxesSubplot:xlabel='Week', ylabel='Sale'>"
      ]
     },
     "execution_count": 77,
     "metadata": {},
     "output_type": "execute_result"
    },
    {
     "data": {
      "image/png": "[encoded data removed]",
      "text/plain": [
       "<Figure size 1440x1440 with 1 Axes>"
      ]
     },
     "metadata": {},
     "output_type": "display_data"
    }
   ],
   "source": [
    "#ploting WEEK VS SOLD UNITS line plot\n",
    "sns.lineplot(training_df['Week'], training_df['Sale'])"
   ]
  },
  {
   "cell_type": "code",
   "execution_count": 78,
   "id": "315a9342",
   "metadata": {},
   "outputs": [
    {
     "data": {
      "text/plain": [
       "<AxesSubplot:xlabel='Week', ylabel='Sale'>"
      ]
     },
     "execution_count": 78,
     "metadata": {},
     "output_type": "execute_result"
    },
    {
     "data": {
      "image/png": "[encoded data removed]",
      "text/plain": [
       "<Figure size 1440x1440 with 1 Axes>"
      ]
     },
     "metadata": {},
     "output_type": "display_data"
    }
   ],
   "source": [
    "#ploting WEEK VS SOLD UNITS line plot\n",
    "sns.boxplot(training_df['Week'], training_df['Sale'])"
   ]
  },
  {
   "cell_type": "code",
   "execution_count": 79,
   "id": "a2f28074",
   "metadata": {},
   "outputs": [
    {
     "data": {
      "text/plain": [
       "<AxesSubplot:xlabel='Day', ylabel='Sale'>"
      ]
     },
     "execution_count": 79,
     "metadata": {},
     "output_type": "execute_result"
    },
    {
     "data": {
      "image/png": "[encoded data removed]",
      "text/plain": [
       "<Figure size 1440x1440 with 1 Axes>"
      ]
     },
     "metadata": {},
     "output_type": "display_data"
    }
   ],
   "source": [
    "#ploting DAY VS SOLD UNITS line plot\n",
    "sns.boxplot(training_df['Day'], training_df['Sale'])"
   ]
  },
  {
   "cell_type": "code",
   "execution_count": 80,
   "id": "b1171fbb",
   "metadata": {},
   "outputs": [
    {
     "data": {
      "text/html": [
       "<div>\n",
       "<style scoped>\n",
       "    .dataframe tbody tr th:only-of-type {\n",
       "        vertical-align: middle;\n",
       "    }\n",
       "\n",
       "    .dataframe tbody tr th {\n",
       "        vertical-align: top;\n",
       "    }\n",
       "\n",
       "    .dataframe thead th {\n",
       "        text-align: right;\n",
       "    }\n",
       "</style>\n",
       "<table border=\"1\" class=\"dataframe\">\n",
       "  <thead>\n",
       "    <tr style=\"text-align: right;\">\n",
       "      <th></th>\n",
       "      <th>Sale</th>\n",
       "      <th>Year</th>\n",
       "      <th>Week</th>\n",
       "      <th>Day</th>\n",
       "      <th>WeekDay</th>\n",
       "      <th>lag7</th>\n",
       "      <th>lag6</th>\n",
       "      <th>lag5</th>\n",
       "      <th>lag4</th>\n",
       "      <th>lag3</th>\n",
       "      <th>lag2</th>\n",
       "      <th>lag1</th>\n",
       "    </tr>\n",
       "  </thead>\n",
       "  <tbody>\n",
       "    <tr>\n",
       "      <th>count</th>\n",
       "      <td>78.000000</td>\n",
       "      <td>78.0</td>\n",
       "      <td>78.000000</td>\n",
       "      <td>78.000000</td>\n",
       "      <td>78.000000</td>\n",
       "      <td>78.000000</td>\n",
       "      <td>78.000000</td>\n",
       "      <td>78.000000</td>\n",
       "      <td>78.000000</td>\n",
       "      <td>78.000000</td>\n",
       "      <td>78.000000</td>\n",
       "      <td>78.000000</td>\n",
       "    </tr>\n",
       "    <tr>\n",
       "      <th>mean</th>\n",
       "      <td>12.807692</td>\n",
       "      <td>2021.0</td>\n",
       "      <td>15.794872</td>\n",
       "      <td>16.551282</td>\n",
       "      <td>2.974359</td>\n",
       "      <td>11.269231</td>\n",
       "      <td>11.435897</td>\n",
       "      <td>11.858974</td>\n",
       "      <td>12.153846</td>\n",
       "      <td>12.423077</td>\n",
       "      <td>12.487179</td>\n",
       "      <td>12.769231</td>\n",
       "    </tr>\n",
       "    <tr>\n",
       "      <th>std</th>\n",
       "      <td>10.218468</td>\n",
       "      <td>0.0</td>\n",
       "      <td>3.517522</td>\n",
       "      <td>8.397043</td>\n",
       "      <td>2.012780</td>\n",
       "      <td>9.410788</td>\n",
       "      <td>9.520436</td>\n",
       "      <td>9.780347</td>\n",
       "      <td>9.916636</td>\n",
       "      <td>10.004569</td>\n",
       "      <td>10.063104</td>\n",
       "      <td>10.242416</td>\n",
       "    </tr>\n",
       "    <tr>\n",
       "      <th>min</th>\n",
       "      <td>1.000000</td>\n",
       "      <td>2021.0</td>\n",
       "      <td>10.000000</td>\n",
       "      <td>1.000000</td>\n",
       "      <td>0.000000</td>\n",
       "      <td>1.000000</td>\n",
       "      <td>1.000000</td>\n",
       "      <td>1.000000</td>\n",
       "      <td>1.000000</td>\n",
       "      <td>1.000000</td>\n",
       "      <td>1.000000</td>\n",
       "      <td>1.000000</td>\n",
       "    </tr>\n",
       "    <tr>\n",
       "      <th>25%</th>\n",
       "      <td>5.250000</td>\n",
       "      <td>2021.0</td>\n",
       "      <td>13.000000</td>\n",
       "      <td>10.000000</td>\n",
       "      <td>1.000000</td>\n",
       "      <td>5.000000</td>\n",
       "      <td>5.000000</td>\n",
       "      <td>5.000000</td>\n",
       "      <td>5.000000</td>\n",
       "      <td>5.000000</td>\n",
       "      <td>5.000000</td>\n",
       "      <td>5.000000</td>\n",
       "    </tr>\n",
       "    <tr>\n",
       "      <th>50%</th>\n",
       "      <td>10.000000</td>\n",
       "      <td>2021.0</td>\n",
       "      <td>16.000000</td>\n",
       "      <td>16.500000</td>\n",
       "      <td>3.000000</td>\n",
       "      <td>9.000000</td>\n",
       "      <td>9.000000</td>\n",
       "      <td>9.000000</td>\n",
       "      <td>9.000000</td>\n",
       "      <td>9.500000</td>\n",
       "      <td>9.500000</td>\n",
       "      <td>10.000000</td>\n",
       "    </tr>\n",
       "    <tr>\n",
       "      <th>75%</th>\n",
       "      <td>16.000000</td>\n",
       "      <td>2021.0</td>\n",
       "      <td>19.000000</td>\n",
       "      <td>23.000000</td>\n",
       "      <td>5.000000</td>\n",
       "      <td>14.000000</td>\n",
       "      <td>14.750000</td>\n",
       "      <td>15.000000</td>\n",
       "      <td>15.750000</td>\n",
       "      <td>16.000000</td>\n",
       "      <td>16.000000</td>\n",
       "      <td>16.000000</td>\n",
       "    </tr>\n",
       "    <tr>\n",
       "      <th>max</th>\n",
       "      <td>52.000000</td>\n",
       "      <td>2021.0</td>\n",
       "      <td>22.000000</td>\n",
       "      <td>31.000000</td>\n",
       "      <td>6.000000</td>\n",
       "      <td>52.000000</td>\n",
       "      <td>52.000000</td>\n",
       "      <td>52.000000</td>\n",
       "      <td>52.000000</td>\n",
       "      <td>52.000000</td>\n",
       "      <td>52.000000</td>\n",
       "      <td>52.000000</td>\n",
       "    </tr>\n",
       "  </tbody>\n",
       "</table>\n",
       "</div>"
      ],
      "text/plain": [
       "            Sale    Year       Week        Day    WeekDay       lag7  \\\n",
       "count  78.000000    78.0  78.000000  78.000000  78.000000  78.000000   \n",
       "mean   12.807692  2021.0  15.794872  16.551282   2.974359  11.269231   \n",
       "std    10.218468     0.0   3.517522   8.397043   2.012780   9.410788   \n",
       "min     1.000000  2021.0  10.000000   1.000000   0.000000   1.000000   \n",
       "25%     5.250000  2021.0  13.000000  10.000000   1.000000   5.000000   \n",
       "50%    10.000000  2021.0  16.000000  16.500000   3.000000   9.000000   \n",
       "75%    16.000000  2021.0  19.000000  23.000000   5.000000  14.000000   \n",
       "max    52.000000  2021.0  22.000000  31.000000   6.000000  52.000000   \n",
       "\n",
       "            lag6       lag5       lag4       lag3       lag2       lag1  \n",
       "count  78.000000  78.000000  78.000000  78.000000  78.000000  78.000000  \n",
       "mean   11.435897  11.858974  12.153846  12.423077  12.487179  12.769231  \n",
       "std     9.520436   9.780347   9.916636  10.004569  10.063104  10.242416  \n",
       "min     1.000000   1.000000   1.000000   1.000000   1.000000   1.000000  \n",
       "25%     5.000000   5.000000   5.000000   5.000000   5.000000   5.000000  \n",
       "50%     9.000000   9.000000   9.000000   9.500000   9.500000  10.000000  \n",
       "75%    14.750000  15.000000  15.750000  16.000000  16.000000  16.000000  \n",
       "max    52.000000  52.000000  52.000000  52.000000  52.000000  52.000000  "
      ]
     },
     "execution_count": 80,
     "metadata": {},
     "output_type": "execute_result"
    }
   ],
   "source": [
    "training_df.describe()"
   ]
  },
  {
   "cell_type": "code",
   "execution_count": null,
   "id": "5f8ddf0f",
   "metadata": {},
   "outputs": [],
   "source": [
    "#selecting soldunits MIN and Max ranges in data frames\n",
    "# training_df = training_df[training_df['AEP_MW']>290000]\n",
    "# training_df.head()"
   ]
  },
  {
   "cell_type": "code",
   "execution_count": null,
   "id": "481a5931",
   "metadata": {},
   "outputs": [],
   "source": [
    "# training_df = training_df[training_df['AEP_MW'] < 490000]"
   ]
  },
  {
   "cell_type": "code",
   "execution_count": null,
   "id": "8a549f46",
   "metadata": {},
   "outputs": [],
   "source": [
    "# training_df.drop(['Date'], axis=1, inplace=True)\n",
    "# training_df.dtypes"
   ]
  },
  {
   "cell_type": "code",
   "execution_count": null,
   "id": "af662b8b",
   "metadata": {},
   "outputs": [],
   "source": [
    "# training_df.size"
   ]
  },
  {
   "cell_type": "code",
   "execution_count": null,
   "id": "d2287fff",
   "metadata": {},
   "outputs": [],
   "source": [
    "# training_df.head()\n"
   ]
  },
  {
   "cell_type": "code",
   "execution_count": null,
   "id": "931bc6a5",
   "metadata": {},
   "outputs": [],
   "source": [
    "# training_df.head()"
   ]
  },
  {
   "cell_type": "code",
   "execution_count": 122,
   "id": "91aa544a",
   "metadata": {},
   "outputs": [],
   "source": [
    "#test train split on the dataset\n",
    "#select the date at which want to split as satisfying train test split strategy\n",
    "split_date = '2021-05-12'\n",
    "df_train = training_df.loc[training_df.index <= split_date].copy()\n",
    "df_test = training_df.loc[training_df.index > split_date].copy()"
   ]
  },
  {
   "cell_type": "code",
   "execution_count": 123,
   "id": "c4e5944b",
   "metadata": {},
   "outputs": [
    {
     "data": {
      "text/html": [
       "<div>\n",
       "<style scoped>\n",
       "    .dataframe tbody tr th:only-of-type {\n",
       "        vertical-align: middle;\n",
       "    }\n",
       "\n",
       "    .dataframe tbody tr th {\n",
       "        vertical-align: top;\n",
       "    }\n",
       "\n",
       "    .dataframe thead th {\n",
       "        text-align: right;\n",
       "    }\n",
       "</style>\n",
       "<table border=\"1\" class=\"dataframe\">\n",
       "  <thead>\n",
       "    <tr style=\"text-align: right;\">\n",
       "      <th></th>\n",
       "      <th>Sale</th>\n",
       "      <th>Date_temp</th>\n",
       "      <th>Year</th>\n",
       "      <th>Week</th>\n",
       "      <th>Day</th>\n",
       "      <th>WeekDay</th>\n",
       "      <th>lag7</th>\n",
       "      <th>lag6</th>\n",
       "      <th>lag5</th>\n",
       "      <th>lag4</th>\n",
       "      <th>lag3</th>\n",
       "      <th>lag2</th>\n",
       "      <th>lag1</th>\n",
       "    </tr>\n",
       "    <tr>\n",
       "      <th>Date</th>\n",
       "      <th></th>\n",
       "      <th></th>\n",
       "      <th></th>\n",
       "      <th></th>\n",
       "      <th></th>\n",
       "      <th></th>\n",
       "      <th></th>\n",
       "      <th></th>\n",
       "      <th></th>\n",
       "      <th></th>\n",
       "      <th></th>\n",
       "      <th></th>\n",
       "      <th></th>\n",
       "    </tr>\n",
       "  </thead>\n",
       "  <tbody>\n",
       "    <tr>\n",
       "      <th>2021-03-09</th>\n",
       "      <td>10</td>\n",
       "      <td>2021-03-09</td>\n",
       "      <td>2021</td>\n",
       "      <td>10</td>\n",
       "      <td>9</td>\n",
       "      <td>1</td>\n",
       "      <td>NaN</td>\n",
       "      <td>NaN</td>\n",
       "      <td>NaN</td>\n",
       "      <td>NaN</td>\n",
       "      <td>NaN</td>\n",
       "      <td>NaN</td>\n",
       "      <td>NaN</td>\n",
       "    </tr>\n",
       "    <tr>\n",
       "      <th>2021-03-10</th>\n",
       "      <td>8</td>\n",
       "      <td>2021-03-10</td>\n",
       "      <td>2021</td>\n",
       "      <td>10</td>\n",
       "      <td>10</td>\n",
       "      <td>2</td>\n",
       "      <td>NaN</td>\n",
       "      <td>NaN</td>\n",
       "      <td>NaN</td>\n",
       "      <td>NaN</td>\n",
       "      <td>NaN</td>\n",
       "      <td>NaN</td>\n",
       "      <td>10.0</td>\n",
       "    </tr>\n",
       "    <tr>\n",
       "      <th>2021-03-11</th>\n",
       "      <td>6</td>\n",
       "      <td>2021-03-11</td>\n",
       "      <td>2021</td>\n",
       "      <td>10</td>\n",
       "      <td>11</td>\n",
       "      <td>3</td>\n",
       "      <td>NaN</td>\n",
       "      <td>NaN</td>\n",
       "      <td>NaN</td>\n",
       "      <td>NaN</td>\n",
       "      <td>NaN</td>\n",
       "      <td>10.0</td>\n",
       "      <td>8.0</td>\n",
       "    </tr>\n",
       "    <tr>\n",
       "      <th>2021-03-12</th>\n",
       "      <td>11</td>\n",
       "      <td>2021-03-12</td>\n",
       "      <td>2021</td>\n",
       "      <td>10</td>\n",
       "      <td>12</td>\n",
       "      <td>4</td>\n",
       "      <td>NaN</td>\n",
       "      <td>NaN</td>\n",
       "      <td>NaN</td>\n",
       "      <td>NaN</td>\n",
       "      <td>10.0</td>\n",
       "      <td>8.0</td>\n",
       "      <td>6.0</td>\n",
       "    </tr>\n",
       "    <tr>\n",
       "      <th>2021-03-13</th>\n",
       "      <td>11</td>\n",
       "      <td>2021-03-13</td>\n",
       "      <td>2021</td>\n",
       "      <td>10</td>\n",
       "      <td>13</td>\n",
       "      <td>5</td>\n",
       "      <td>NaN</td>\n",
       "      <td>NaN</td>\n",
       "      <td>NaN</td>\n",
       "      <td>10.0</td>\n",
       "      <td>8.0</td>\n",
       "      <td>6.0</td>\n",
       "      <td>11.0</td>\n",
       "    </tr>\n",
       "  </tbody>\n",
       "</table>\n",
       "</div>"
      ],
      "text/plain": [
       "            Sale   Date_temp  Year  Week  Day  WeekDay  lag7  lag6  lag5  \\\n",
       "Date                                                                       \n",
       "2021-03-09    10  2021-03-09  2021    10    9        1   NaN   NaN   NaN   \n",
       "2021-03-10     8  2021-03-10  2021    10   10        2   NaN   NaN   NaN   \n",
       "2021-03-11     6  2021-03-11  2021    10   11        3   NaN   NaN   NaN   \n",
       "2021-03-12    11  2021-03-12  2021    10   12        4   NaN   NaN   NaN   \n",
       "2021-03-13    11  2021-03-13  2021    10   13        5   NaN   NaN   NaN   \n",
       "\n",
       "            lag4  lag3  lag2  lag1  \n",
       "Date                                \n",
       "2021-03-09   NaN   NaN   NaN   NaN  \n",
       "2021-03-10   NaN   NaN   NaN  10.0  \n",
       "2021-03-11   NaN   NaN  10.0   8.0  \n",
       "2021-03-12   NaN  10.0   8.0   6.0  \n",
       "2021-03-13  10.0   8.0   6.0  11.0  "
      ]
     },
     "execution_count": 123,
     "metadata": {},
     "output_type": "execute_result"
    }
   ],
   "source": [
    "df_train.head()"
   ]
  },
  {
   "cell_type": "code",
   "execution_count": 124,
   "id": "77e5a25e",
   "metadata": {},
   "outputs": [
    {
     "data": {
      "text/html": [
       "<div>\n",
       "<style scoped>\n",
       "    .dataframe tbody tr th:only-of-type {\n",
       "        vertical-align: middle;\n",
       "    }\n",
       "\n",
       "    .dataframe tbody tr th {\n",
       "        vertical-align: top;\n",
       "    }\n",
       "\n",
       "    .dataframe thead th {\n",
       "        text-align: right;\n",
       "    }\n",
       "</style>\n",
       "<table border=\"1\" class=\"dataframe\">\n",
       "  <thead>\n",
       "    <tr style=\"text-align: right;\">\n",
       "      <th></th>\n",
       "      <th>Sale</th>\n",
       "      <th>Date_temp</th>\n",
       "      <th>Year</th>\n",
       "      <th>Week</th>\n",
       "      <th>Day</th>\n",
       "      <th>WeekDay</th>\n",
       "      <th>lag7</th>\n",
       "      <th>lag6</th>\n",
       "      <th>lag5</th>\n",
       "      <th>lag4</th>\n",
       "      <th>lag3</th>\n",
       "      <th>lag2</th>\n",
       "      <th>lag1</th>\n",
       "    </tr>\n",
       "    <tr>\n",
       "      <th>Date</th>\n",
       "      <th></th>\n",
       "      <th></th>\n",
       "      <th></th>\n",
       "      <th></th>\n",
       "      <th></th>\n",
       "      <th></th>\n",
       "      <th></th>\n",
       "      <th></th>\n",
       "      <th></th>\n",
       "      <th></th>\n",
       "      <th></th>\n",
       "      <th></th>\n",
       "      <th></th>\n",
       "    </tr>\n",
       "  </thead>\n",
       "  <tbody>\n",
       "    <tr>\n",
       "      <th>2021-05-13</th>\n",
       "      <td>16</td>\n",
       "      <td>2021-05-13</td>\n",
       "      <td>2021</td>\n",
       "      <td>19</td>\n",
       "      <td>13</td>\n",
       "      <td>3</td>\n",
       "      <td>4.0</td>\n",
       "      <td>7.0</td>\n",
       "      <td>13.0</td>\n",
       "      <td>16.0</td>\n",
       "      <td>10.0</td>\n",
       "      <td>3.0</td>\n",
       "      <td>14.0</td>\n",
       "    </tr>\n",
       "    <tr>\n",
       "      <th>2021-05-14</th>\n",
       "      <td>14</td>\n",
       "      <td>2021-05-14</td>\n",
       "      <td>2021</td>\n",
       "      <td>19</td>\n",
       "      <td>14</td>\n",
       "      <td>4</td>\n",
       "      <td>7.0</td>\n",
       "      <td>13.0</td>\n",
       "      <td>16.0</td>\n",
       "      <td>10.0</td>\n",
       "      <td>3.0</td>\n",
       "      <td>14.0</td>\n",
       "      <td>16.0</td>\n",
       "    </tr>\n",
       "    <tr>\n",
       "      <th>2021-05-15</th>\n",
       "      <td>13</td>\n",
       "      <td>2021-05-15</td>\n",
       "      <td>2021</td>\n",
       "      <td>19</td>\n",
       "      <td>15</td>\n",
       "      <td>5</td>\n",
       "      <td>13.0</td>\n",
       "      <td>16.0</td>\n",
       "      <td>10.0</td>\n",
       "      <td>3.0</td>\n",
       "      <td>14.0</td>\n",
       "      <td>16.0</td>\n",
       "      <td>14.0</td>\n",
       "    </tr>\n",
       "    <tr>\n",
       "      <th>2021-05-16</th>\n",
       "      <td>26</td>\n",
       "      <td>2021-05-16</td>\n",
       "      <td>2021</td>\n",
       "      <td>19</td>\n",
       "      <td>16</td>\n",
       "      <td>6</td>\n",
       "      <td>16.0</td>\n",
       "      <td>10.0</td>\n",
       "      <td>3.0</td>\n",
       "      <td>14.0</td>\n",
       "      <td>16.0</td>\n",
       "      <td>14.0</td>\n",
       "      <td>13.0</td>\n",
       "    </tr>\n",
       "    <tr>\n",
       "      <th>2021-05-17</th>\n",
       "      <td>30</td>\n",
       "      <td>2021-05-17</td>\n",
       "      <td>2021</td>\n",
       "      <td>20</td>\n",
       "      <td>17</td>\n",
       "      <td>0</td>\n",
       "      <td>10.0</td>\n",
       "      <td>3.0</td>\n",
       "      <td>14.0</td>\n",
       "      <td>16.0</td>\n",
       "      <td>14.0</td>\n",
       "      <td>13.0</td>\n",
       "      <td>26.0</td>\n",
       "    </tr>\n",
       "  </tbody>\n",
       "</table>\n",
       "</div>"
      ],
      "text/plain": [
       "            Sale   Date_temp  Year  Week  Day  WeekDay  lag7  lag6  lag5  \\\n",
       "Date                                                                       \n",
       "2021-05-13    16  2021-05-13  2021    19   13        3   4.0   7.0  13.0   \n",
       "2021-05-14    14  2021-05-14  2021    19   14        4   7.0  13.0  16.0   \n",
       "2021-05-15    13  2021-05-15  2021    19   15        5  13.0  16.0  10.0   \n",
       "2021-05-16    26  2021-05-16  2021    19   16        6  16.0  10.0   3.0   \n",
       "2021-05-17    30  2021-05-17  2021    20   17        0  10.0   3.0  14.0   \n",
       "\n",
       "            lag4  lag3  lag2  lag1  \n",
       "Date                                \n",
       "2021-05-13  16.0  10.0   3.0  14.0  \n",
       "2021-05-14  10.0   3.0  14.0  16.0  \n",
       "2021-05-15   3.0  14.0  16.0  14.0  \n",
       "2021-05-16  14.0  16.0  14.0  13.0  \n",
       "2021-05-17  16.0  14.0  13.0  26.0  "
      ]
     },
     "execution_count": 124,
     "metadata": {},
     "output_type": "execute_result"
    }
   ],
   "source": [
    "df_test.head()"
   ]
  },
  {
   "cell_type": "code",
   "execution_count": 125,
   "id": "f9969a8b",
   "metadata": {},
   "outputs": [
    {
     "data": {
      "text/plain": [
       "(59, 13)"
      ]
     },
     "execution_count": 125,
     "metadata": {},
     "output_type": "execute_result"
    }
   ],
   "source": [
    "df_train.shape"
   ]
  },
  {
   "cell_type": "code",
   "execution_count": 126,
   "id": "51a988a0",
   "metadata": {},
   "outputs": [
    {
     "data": {
      "text/plain": [
       "(19, 13)"
      ]
     },
     "execution_count": 126,
     "metadata": {},
     "output_type": "execute_result"
    }
   ],
   "source": [
    "df_test.shape"
   ]
  },
  {
   "cell_type": "code",
   "execution_count": 127,
   "id": "276c789f",
   "metadata": {},
   "outputs": [],
   "source": [
    "#creating features for timeseries to the dataset\n",
    "def create_features(df, label=None):\n",
    "    df['date'] = df.index\n",
    "    df['hour'] = df['date'].dt.hour\n",
    "    df['dayofweek'] = df['date'].dt.dayofweek\n",
    "    df['quarter'] = df['date'].dt.quarter\n",
    "    df['month'] = df['date'].dt.month\n",
    "    df['year'] = df['date'].dt.year\n",
    "    df['dayofyear'] = df['date'].dt.dayofyear\n",
    "    df['dayofmonth'] = df['date'].dt.day\n",
    "    df['weekofyear'] = df['date'].dt.weekofyear\n",
    "    for i in range(7,0,-1):\n",
    "        training_df['lag' + str(i)] = training_df['Sale'].shift(i)\n",
    "    X = df[[\n",
    "        'dayofweek', 'quarter', 'month', 'year', 'dayofyear',\n",
    "        'dayofmonth', 'weekofyear','lag7','lag6','lag5','lag4','lag3','lag2','lag1',\n",
    "    ]]\n",
    "    if label:\n",
    "        y = df[label]\n",
    "        return X, y\n",
    "    return X"
   ]
  },
  {
   "cell_type": "code",
   "execution_count": 128,
   "id": "b8d1eb0d",
   "metadata": {},
   "outputs": [],
   "source": [
    "#splitting the data into train and test\n",
    "X_train, y_train = create_features(df_train, label='Sale')\n",
    "X_test, y_test = create_features(df_test, label='Sale')"
   ]
  },
  {
   "cell_type": "code",
   "execution_count": 129,
   "id": "3d252c55",
   "metadata": {},
   "outputs": [
    {
     "data": {
      "text/html": [
       "<div>\n",
       "<style scoped>\n",
       "    .dataframe tbody tr th:only-of-type {\n",
       "        vertical-align: middle;\n",
       "    }\n",
       "\n",
       "    .dataframe tbody tr th {\n",
       "        vertical-align: top;\n",
       "    }\n",
       "\n",
       "    .dataframe thead th {\n",
       "        text-align: right;\n",
       "    }\n",
       "</style>\n",
       "<table border=\"1\" class=\"dataframe\">\n",
       "  <thead>\n",
       "    <tr style=\"text-align: right;\">\n",
       "      <th></th>\n",
       "      <th>dayofweek</th>\n",
       "      <th>quarter</th>\n",
       "      <th>month</th>\n",
       "      <th>year</th>\n",
       "      <th>dayofyear</th>\n",
       "      <th>dayofmonth</th>\n",
       "      <th>weekofyear</th>\n",
       "      <th>lag7</th>\n",
       "      <th>lag6</th>\n",
       "      <th>lag5</th>\n",
       "      <th>lag4</th>\n",
       "      <th>lag3</th>\n",
       "      <th>lag2</th>\n",
       "      <th>lag1</th>\n",
       "    </tr>\n",
       "    <tr>\n",
       "      <th>Date</th>\n",
       "      <th></th>\n",
       "      <th></th>\n",
       "      <th></th>\n",
       "      <th></th>\n",
       "      <th></th>\n",
       "      <th></th>\n",
       "      <th></th>\n",
       "      <th></th>\n",
       "      <th></th>\n",
       "      <th></th>\n",
       "      <th></th>\n",
       "      <th></th>\n",
       "      <th></th>\n",
       "      <th></th>\n",
       "    </tr>\n",
       "  </thead>\n",
       "  <tbody>\n",
       "    <tr>\n",
       "      <th>2021-03-09</th>\n",
       "      <td>1</td>\n",
       "      <td>1</td>\n",
       "      <td>3</td>\n",
       "      <td>2021</td>\n",
       "      <td>68</td>\n",
       "      <td>9</td>\n",
       "      <td>10</td>\n",
       "      <td>NaN</td>\n",
       "      <td>NaN</td>\n",
       "      <td>NaN</td>\n",
       "      <td>NaN</td>\n",
       "      <td>NaN</td>\n",
       "      <td>NaN</td>\n",
       "      <td>NaN</td>\n",
       "    </tr>\n",
       "    <tr>\n",
       "      <th>2021-03-10</th>\n",
       "      <td>2</td>\n",
       "      <td>1</td>\n",
       "      <td>3</td>\n",
       "      <td>2021</td>\n",
       "      <td>69</td>\n",
       "      <td>10</td>\n",
       "      <td>10</td>\n",
       "      <td>NaN</td>\n",
       "      <td>NaN</td>\n",
       "      <td>NaN</td>\n",
       "      <td>NaN</td>\n",
       "      <td>NaN</td>\n",
       "      <td>NaN</td>\n",
       "      <td>10.0</td>\n",
       "    </tr>\n",
       "    <tr>\n",
       "      <th>2021-03-11</th>\n",
       "      <td>3</td>\n",
       "      <td>1</td>\n",
       "      <td>3</td>\n",
       "      <td>2021</td>\n",
       "      <td>70</td>\n",
       "      <td>11</td>\n",
       "      <td>10</td>\n",
       "      <td>NaN</td>\n",
       "      <td>NaN</td>\n",
       "      <td>NaN</td>\n",
       "      <td>NaN</td>\n",
       "      <td>NaN</td>\n",
       "      <td>10.0</td>\n",
       "      <td>8.0</td>\n",
       "    </tr>\n",
       "    <tr>\n",
       "      <th>2021-03-12</th>\n",
       "      <td>4</td>\n",
       "      <td>1</td>\n",
       "      <td>3</td>\n",
       "      <td>2021</td>\n",
       "      <td>71</td>\n",
       "      <td>12</td>\n",
       "      <td>10</td>\n",
       "      <td>NaN</td>\n",
       "      <td>NaN</td>\n",
       "      <td>NaN</td>\n",
       "      <td>NaN</td>\n",
       "      <td>10.0</td>\n",
       "      <td>8.0</td>\n",
       "      <td>6.0</td>\n",
       "    </tr>\n",
       "    <tr>\n",
       "      <th>2021-03-13</th>\n",
       "      <td>5</td>\n",
       "      <td>1</td>\n",
       "      <td>3</td>\n",
       "      <td>2021</td>\n",
       "      <td>72</td>\n",
       "      <td>13</td>\n",
       "      <td>10</td>\n",
       "      <td>NaN</td>\n",
       "      <td>NaN</td>\n",
       "      <td>NaN</td>\n",
       "      <td>10.0</td>\n",
       "      <td>8.0</td>\n",
       "      <td>6.0</td>\n",
       "      <td>11.0</td>\n",
       "    </tr>\n",
       "  </tbody>\n",
       "</table>\n",
       "</div>"
      ],
      "text/plain": [
       "            dayofweek  quarter  month  year  dayofyear  dayofmonth  \\\n",
       "Date                                                                 \n",
       "2021-03-09          1        1      3  2021         68           9   \n",
       "2021-03-10          2        1      3  2021         69          10   \n",
       "2021-03-11          3        1      3  2021         70          11   \n",
       "2021-03-12          4        1      3  2021         71          12   \n",
       "2021-03-13          5        1      3  2021         72          13   \n",
       "\n",
       "            weekofyear  lag7  lag6  lag5  lag4  lag3  lag2  lag1  \n",
       "Date                                                              \n",
       "2021-03-09          10   NaN   NaN   NaN   NaN   NaN   NaN   NaN  \n",
       "2021-03-10          10   NaN   NaN   NaN   NaN   NaN   NaN  10.0  \n",
       "2021-03-11          10   NaN   NaN   NaN   NaN   NaN  10.0   8.0  \n",
       "2021-03-12          10   NaN   NaN   NaN   NaN  10.0   8.0   6.0  \n",
       "2021-03-13          10   NaN   NaN   NaN  10.0   8.0   6.0  11.0  "
      ]
     },
     "execution_count": 129,
     "metadata": {},
     "output_type": "execute_result"
    }
   ],
   "source": [
    "X_train.head()"
   ]
  },
  {
   "cell_type": "code",
   "execution_count": 130,
   "id": "8d6e55bb",
   "metadata": {},
   "outputs": [
    {
     "data": {
      "text/plain": [
       "Date\n",
       "2021-03-09    10\n",
       "2021-03-10     8\n",
       "2021-03-11     6\n",
       "2021-03-12    11\n",
       "2021-03-13    11\n",
       "Name: Sale, dtype: int64"
      ]
     },
     "execution_count": 130,
     "metadata": {},
     "output_type": "execute_result"
    }
   ],
   "source": [
    "y_train.head()"
   ]
  },
  {
   "cell_type": "code",
   "execution_count": 131,
   "id": "ddee69cc",
   "metadata": {},
   "outputs": [],
   "source": [
    "#creating XGBoost Model\n",
    "#Tunning the Hyper Parameters with  GridSearchCV\n",
    "\n",
    "# here is a Parameter grid for the xgboost\n",
    "params = {\n",
    "    'min_child_weight': [4, 5],\n",
    "    'eta' : [i / 10.0 for i in range(3, 6)],\n",
    "    'lambda' : [0.2],\n",
    "    'alpha' : [0.3],\n",
    "    'gamma': [i / 10.0 for i in range(3, 6)],\n",
    "    'subsample': [i / 10.0 for i in range(6, 11)],\n",
    "    'colsample_bytree': [i / 10.0 for i in range(6, 11)],\n",
    "    'max_depth': [2, 3, 4]\n",
    "}"
   ]
  },
  {
   "cell_type": "code",
   "execution_count": 132,
   "id": "bfb59534",
   "metadata": {},
   "outputs": [],
   "source": [
    "# Intializing XGB and GridSearch\n",
    "xgb_reg = xgb.XGBRegressor(nthread=-1, objective='reg:squarederror')"
   ]
  },
  {
   "cell_type": "code",
   "execution_count": 133,
   "id": "cdc06c2f",
   "metadata": {},
   "outputs": [
    {
     "data": {
      "text/plain": [
       "GridSearchCV(estimator=XGBRegressor(base_score=None, booster=None,\n",
       "                                    colsample_bylevel=None,\n",
       "                                    colsample_bynode=None,\n",
       "                                    colsample_bytree=None, gamma=None,\n",
       "                                    gpu_id=None, importance_type='gain',\n",
       "                                    interaction_constraints=None,\n",
       "                                    learning_rate=None, max_delta_step=None,\n",
       "                                    max_depth=None, min_child_weight=None,\n",
       "                                    missing=nan, monotone_constraints=None,\n",
       "                                    n_estimators=100, n_jobs=None,...\n",
       "                                    num_parallel_tree=None, random_state=None,\n",
       "                                    reg_alpha=None, reg_lambda=None,\n",
       "                                    scale_pos_weight=None, subsample=None,\n",
       "                                    tree_method=None, validate_parameters=None,\n",
       "                                    verbosity=None),\n",
       "             param_grid={'alpha': [0.3],\n",
       "                         'colsample_bytree': [0.6, 0.7, 0.8, 0.9, 1.0],\n",
       "                         'eta': [0.3, 0.4, 0.5], 'gamma': [0.3, 0.4, 0.5],\n",
       "                         'lambda': [0.2], 'max_depth': [2, 3, 4],\n",
       "                         'min_child_weight': [4, 5],\n",
       "                         'subsample': [0.6, 0.7, 0.8, 0.9, 1.0]})"
      ]
     },
     "execution_count": 133,
     "metadata": {},
     "output_type": "execute_result"
    }
   ],
   "source": [
    "grid = GridSearchCV(xgb_reg, params)\n",
    "grid.fit(X_train, y_train)"
   ]
  },
  {
   "cell_type": "code",
   "execution_count": null,
   "id": "4ec33042",
   "metadata": {},
   "outputs": [],
   "source": [
    "# reg = xgb.XGBRegressor(n_estimators=1000)\n",
    "# reg.fit(X_train, y_train,\n",
    "#         eval_set=[(X_train, y_train), (X_test, y_test)],\n",
    "#         early_stopping_rounds=50,\n",
    "#        verbose=False)"
   ]
  },
  {
   "cell_type": "code",
   "execution_count": 134,
   "id": "af04b5bb",
   "metadata": {},
   "outputs": [
    {
     "data": {
      "text/plain": [
       "-2.323640537543534"
      ]
     },
     "execution_count": 134,
     "metadata": {},
     "output_type": "execute_result"
    }
   ],
   "source": [
    "gridcv_xgb = grid.best_estimator_\n",
    "r2_score(y_test, gridcv_xgb.predict(X_test))"
   ]
  },
  {
   "cell_type": "code",
   "execution_count": 135,
   "id": "6d7dbb85",
   "metadata": {},
   "outputs": [
    {
     "data": {
      "image/png": "[encoded data removed]",
      "text/plain": [
       "<Figure size 1440x1440 with 1 Axes>"
      ]
     },
     "metadata": {},
     "output_type": "display_data"
    }
   ],
   "source": [
    "#feature importance graph\n",
    "_ = plot_importance(gridcv_xgb, height=1.5)\n",
    "plt.show()"
   ]
  },
  {
   "cell_type": "code",
   "execution_count": 136,
   "id": "629a021a",
   "metadata": {},
   "outputs": [],
   "source": [
    "#forecasting the data\n",
    "df_test['Prediction'] = gridcv_xgb.predict(X_test)\n",
    "df_all = pd.concat([df_test, df_train], sort=False)"
   ]
  },
  {
   "cell_type": "code",
   "execution_count": 137,
   "id": "02e96f9f",
   "metadata": {},
   "outputs": [
    {
     "data": {
      "image/png": "[encoded data removed]",
      "text/plain": [
       "<Figure size 1080x360 with 1 Axes>"
      ]
     },
     "metadata": {},
     "output_type": "display_data"
    }
   ],
   "source": [
    "_ = df_all[['Sale','Prediction']].plot(figsize=(15, 5))"
   ]
  },
  {
   "cell_type": "code",
   "execution_count": 138,
   "id": "8f5b2525",
   "metadata": {},
   "outputs": [
    {
     "data": {
      "text/html": [
       "<div>\n",
       "<style scoped>\n",
       "    .dataframe tbody tr th:only-of-type {\n",
       "        vertical-align: middle;\n",
       "    }\n",
       "\n",
       "    .dataframe tbody tr th {\n",
       "        vertical-align: top;\n",
       "    }\n",
       "\n",
       "    .dataframe thead th {\n",
       "        text-align: right;\n",
       "    }\n",
       "</style>\n",
       "<table border=\"1\" class=\"dataframe\">\n",
       "  <thead>\n",
       "    <tr style=\"text-align: right;\">\n",
       "      <th>Date</th>\n",
       "      <th>2021-05-13</th>\n",
       "      <th>2021-05-14</th>\n",
       "      <th>2021-05-15</th>\n",
       "      <th>2021-05-16</th>\n",
       "      <th>2021-05-17</th>\n",
       "    </tr>\n",
       "  </thead>\n",
       "  <tbody>\n",
       "    <tr>\n",
       "      <th>Sale</th>\n",
       "      <td>16</td>\n",
       "      <td>14</td>\n",
       "      <td>13</td>\n",
       "      <td>26</td>\n",
       "      <td>30</td>\n",
       "    </tr>\n",
       "    <tr>\n",
       "      <th>Date_temp</th>\n",
       "      <td>2021-05-13</td>\n",
       "      <td>2021-05-14</td>\n",
       "      <td>2021-05-15</td>\n",
       "      <td>2021-05-16</td>\n",
       "      <td>2021-05-17</td>\n",
       "    </tr>\n",
       "    <tr>\n",
       "      <th>Year</th>\n",
       "      <td>2021</td>\n",
       "      <td>2021</td>\n",
       "      <td>2021</td>\n",
       "      <td>2021</td>\n",
       "      <td>2021</td>\n",
       "    </tr>\n",
       "    <tr>\n",
       "      <th>Week</th>\n",
       "      <td>19</td>\n",
       "      <td>19</td>\n",
       "      <td>19</td>\n",
       "      <td>19</td>\n",
       "      <td>20</td>\n",
       "    </tr>\n",
       "    <tr>\n",
       "      <th>Day</th>\n",
       "      <td>13</td>\n",
       "      <td>14</td>\n",
       "      <td>15</td>\n",
       "      <td>16</td>\n",
       "      <td>17</td>\n",
       "    </tr>\n",
       "    <tr>\n",
       "      <th>WeekDay</th>\n",
       "      <td>3</td>\n",
       "      <td>4</td>\n",
       "      <td>5</td>\n",
       "      <td>6</td>\n",
       "      <td>0</td>\n",
       "    </tr>\n",
       "    <tr>\n",
       "      <th>lag7</th>\n",
       "      <td>4.0</td>\n",
       "      <td>7.0</td>\n",
       "      <td>13.0</td>\n",
       "      <td>16.0</td>\n",
       "      <td>10.0</td>\n",
       "    </tr>\n",
       "    <tr>\n",
       "      <th>lag6</th>\n",
       "      <td>7.0</td>\n",
       "      <td>13.0</td>\n",
       "      <td>16.0</td>\n",
       "      <td>10.0</td>\n",
       "      <td>3.0</td>\n",
       "    </tr>\n",
       "    <tr>\n",
       "      <th>lag5</th>\n",
       "      <td>13.0</td>\n",
       "      <td>16.0</td>\n",
       "      <td>10.0</td>\n",
       "      <td>3.0</td>\n",
       "      <td>14.0</td>\n",
       "    </tr>\n",
       "    <tr>\n",
       "      <th>lag4</th>\n",
       "      <td>16.0</td>\n",
       "      <td>10.0</td>\n",
       "      <td>3.0</td>\n",
       "      <td>14.0</td>\n",
       "      <td>16.0</td>\n",
       "    </tr>\n",
       "    <tr>\n",
       "      <th>lag3</th>\n",
       "      <td>10.0</td>\n",
       "      <td>3.0</td>\n",
       "      <td>14.0</td>\n",
       "      <td>16.0</td>\n",
       "      <td>14.0</td>\n",
       "    </tr>\n",
       "    <tr>\n",
       "      <th>lag2</th>\n",
       "      <td>3.0</td>\n",
       "      <td>14.0</td>\n",
       "      <td>16.0</td>\n",
       "      <td>14.0</td>\n",
       "      <td>13.0</td>\n",
       "    </tr>\n",
       "    <tr>\n",
       "      <th>lag1</th>\n",
       "      <td>14.0</td>\n",
       "      <td>16.0</td>\n",
       "      <td>14.0</td>\n",
       "      <td>13.0</td>\n",
       "      <td>26.0</td>\n",
       "    </tr>\n",
       "    <tr>\n",
       "      <th>date</th>\n",
       "      <td>2021-05-13 00:00:00</td>\n",
       "      <td>2021-05-14 00:00:00</td>\n",
       "      <td>2021-05-15 00:00:00</td>\n",
       "      <td>2021-05-16 00:00:00</td>\n",
       "      <td>2021-05-17 00:00:00</td>\n",
       "    </tr>\n",
       "    <tr>\n",
       "      <th>hour</th>\n",
       "      <td>0</td>\n",
       "      <td>0</td>\n",
       "      <td>0</td>\n",
       "      <td>0</td>\n",
       "      <td>0</td>\n",
       "    </tr>\n",
       "    <tr>\n",
       "      <th>dayofweek</th>\n",
       "      <td>3</td>\n",
       "      <td>4</td>\n",
       "      <td>5</td>\n",
       "      <td>6</td>\n",
       "      <td>0</td>\n",
       "    </tr>\n",
       "    <tr>\n",
       "      <th>quarter</th>\n",
       "      <td>2</td>\n",
       "      <td>2</td>\n",
       "      <td>2</td>\n",
       "      <td>2</td>\n",
       "      <td>2</td>\n",
       "    </tr>\n",
       "    <tr>\n",
       "      <th>month</th>\n",
       "      <td>5</td>\n",
       "      <td>5</td>\n",
       "      <td>5</td>\n",
       "      <td>5</td>\n",
       "      <td>5</td>\n",
       "    </tr>\n",
       "    <tr>\n",
       "      <th>year</th>\n",
       "      <td>2021</td>\n",
       "      <td>2021</td>\n",
       "      <td>2021</td>\n",
       "      <td>2021</td>\n",
       "      <td>2021</td>\n",
       "    </tr>\n",
       "    <tr>\n",
       "      <th>dayofyear</th>\n",
       "      <td>133</td>\n",
       "      <td>134</td>\n",
       "      <td>135</td>\n",
       "      <td>136</td>\n",
       "      <td>137</td>\n",
       "    </tr>\n",
       "    <tr>\n",
       "      <th>dayofmonth</th>\n",
       "      <td>13</td>\n",
       "      <td>14</td>\n",
       "      <td>15</td>\n",
       "      <td>16</td>\n",
       "      <td>17</td>\n",
       "    </tr>\n",
       "    <tr>\n",
       "      <th>weekofyear</th>\n",
       "      <td>19</td>\n",
       "      <td>19</td>\n",
       "      <td>19</td>\n",
       "      <td>19</td>\n",
       "      <td>20</td>\n",
       "    </tr>\n",
       "    <tr>\n",
       "      <th>Prediction</th>\n",
       "      <td>20.656738</td>\n",
       "      <td>15.085603</td>\n",
       "      <td>11.497906</td>\n",
       "      <td>14.886496</td>\n",
       "      <td>6.909369</td>\n",
       "    </tr>\n",
       "  </tbody>\n",
       "</table>\n",
       "</div>"
      ],
      "text/plain": [
       "Date                 2021-05-13           2021-05-14           2021-05-15  \\\n",
       "Sale                         16                   14                   13   \n",
       "Date_temp            2021-05-13           2021-05-14           2021-05-15   \n",
       "Year                       2021                 2021                 2021   \n",
       "Week                         19                   19                   19   \n",
       "Day                          13                   14                   15   \n",
       "WeekDay                       3                    4                    5   \n",
       "lag7                        4.0                  7.0                 13.0   \n",
       "lag6                        7.0                 13.0                 16.0   \n",
       "lag5                       13.0                 16.0                 10.0   \n",
       "lag4                       16.0                 10.0                  3.0   \n",
       "lag3                       10.0                  3.0                 14.0   \n",
       "lag2                        3.0                 14.0                 16.0   \n",
       "lag1                       14.0                 16.0                 14.0   \n",
       "date        2021-05-13 00:00:00  2021-05-14 00:00:00  2021-05-15 00:00:00   \n",
       "hour                          0                    0                    0   \n",
       "dayofweek                     3                    4                    5   \n",
       "quarter                       2                    2                    2   \n",
       "month                         5                    5                    5   \n",
       "year                       2021                 2021                 2021   \n",
       "dayofyear                   133                  134                  135   \n",
       "dayofmonth                   13                   14                   15   \n",
       "weekofyear                   19                   19                   19   \n",
       "Prediction            20.656738            15.085603            11.497906   \n",
       "\n",
       "Date                 2021-05-16           2021-05-17  \n",
       "Sale                         26                   30  \n",
       "Date_temp            2021-05-16           2021-05-17  \n",
       "Year                       2021                 2021  \n",
       "Week                         19                   20  \n",
       "Day                          16                   17  \n",
       "WeekDay                       6                    0  \n",
       "lag7                       16.0                 10.0  \n",
       "lag6                       10.0                  3.0  \n",
       "lag5                        3.0                 14.0  \n",
       "lag4                       14.0                 16.0  \n",
       "lag3                       16.0                 14.0  \n",
       "lag2                       14.0                 13.0  \n",
       "lag1                       13.0                 26.0  \n",
       "date        2021-05-16 00:00:00  2021-05-17 00:00:00  \n",
       "hour                          0                    0  \n",
       "dayofweek                     6                    0  \n",
       "quarter                       2                    2  \n",
       "month                         5                    5  \n",
       "year                       2021                 2021  \n",
       "dayofyear                   136                  137  \n",
       "dayofmonth                   16                   17  \n",
       "weekofyear                   19                   20  \n",
       "Prediction            14.886496             6.909369  "
      ]
     },
     "execution_count": 138,
     "metadata": {},
     "output_type": "execute_result"
    }
   ],
   "source": [
    "#first month predictions\n",
    "df_all.head().T"
   ]
  },
  {
   "cell_type": "code",
   "execution_count": null,
   "id": "d46c53af",
   "metadata": {},
   "outputs": [],
   "source": []
  },
  {
   "cell_type": "code",
   "execution_count": null,
   "id": "f5c3557b",
   "metadata": {},
   "outputs": [],
   "source": [
    "print(\"root mean squared error\")\n",
    "mean_squared_error(y_true=df_test['Sale'],\n",
    "                   y_pred=df_test['Prediction'])"
   ]
  },
  {
   "cell_type": "code",
   "execution_count": null,
   "id": "f23c4858",
   "metadata": {},
   "outputs": [],
   "source": [
    "print(\"root absolute error\")\n",
    "mean_absolute_error(y_true=df_test['Sale'],\n",
    "                   y_pred=df_test['Prediction'])"
   ]
  },
  {
   "cell_type": "code",
   "execution_count": null,
   "id": "6ad07a90",
   "metadata": {},
   "outputs": [],
   "source": [
    "#mean absolute percentage eror\n",
    "def mean_absolute_percentage_error(y_true, y_pred):\n",
    "    # \"\"\"Calculates MAPE given y_true and y_pred\"\"\"\n",
    "    y_true, y_pred = np.array(y_true), np.array(y_pred)\n",
    "    return np.mean(np.abs((y_true - y_pred) / y_true)) * 100"
   ]
  },
  {
   "cell_type": "code",
   "execution_count": null,
   "id": "c8cfebc7",
   "metadata": {},
   "outputs": [],
   "source": [
    "print(\"mean absolute percentage error\")\n",
    "mean_absolute_percentage_error(y_true=df_test['Sale'],\n",
    "                   y_pred=df_test['Prediction'])"
   ]
  },
  {
   "cell_type": "code",
   "execution_count": 139,
   "id": "2b26d96a",
   "metadata": {},
   "outputs": [],
   "source": [
    "#Looking at wrost and best predicted days\n",
    "df_test['error'] = df_test['Sale'] - df_test['Prediction']\n",
    "df_test['abs_error'] = df_test['error'].apply(np.abs)\n",
    "error_by_day = df_test.groupby(['year', 'month', 'dayofmonth']) \\\n",
    "    .mean()[['Sale', 'Prediction', 'error', 'abs_error']]"
   ]
  },
  {
   "cell_type": "code",
   "execution_count": 140,
   "id": "e30fe667",
   "metadata": {},
   "outputs": [
    {
     "name": "stdout",
     "output_type": "stream",
     "text": [
      "The Wrost predicted days\n",
      "                       Sale  Prediction     error  abs_error\n",
      "year month dayofmonth                                       \n",
      "2021 5     13          16.0   20.656738 -4.656738   4.656738\n",
      "           31           8.0    9.809217 -1.809217   1.809217\n",
      "           14          14.0   15.085603 -1.085603   1.085603\n",
      "           15          13.0   11.497906  1.502094   1.502094\n",
      "           19          15.0    9.037656  5.962344   5.962344\n"
     ]
    }
   ],
   "source": [
    "print(\"The Wrost predicted days\")\n",
    "# Over forecasted days\n",
    "print(error_by_day.sort_values('error', ascending=True).head())"
   ]
  },
  {
   "cell_type": "code",
   "execution_count": 141,
   "id": "140127f4",
   "metadata": {},
   "outputs": [
    {
     "name": "stdout",
     "output_type": "stream",
     "text": [
      "The Best predicted days\n",
      "                       Sale  Prediction     error  abs_error\n",
      "year month dayofmonth                                       \n",
      "2021 5     14          14.0   15.085603 -1.085603   1.085603\n",
      "           15          13.0   11.497906  1.502094   1.502094\n",
      "           31           8.0    9.809217 -1.809217   1.809217\n",
      "           13          16.0   20.656738 -4.656738   4.656738\n",
      "           19          15.0    9.037656  5.962344   5.962344\n"
     ]
    }
   ],
   "source": [
    "# Best predicted days\n",
    "print(\"The Best predicted days\")\n",
    "print(error_by_day.sort_values('abs_error', ascending=True).head())"
   ]
  },
  {
   "cell_type": "code",
   "execution_count": null,
   "id": "273c943d",
   "metadata": {},
   "outputs": [],
   "source": []
  },
  {
   "cell_type": "code",
   "execution_count": 143,
   "id": "1b505da2",
   "metadata": {},
   "outputs": [
    {
     "data": {
      "text/plain": [
       "<Figure size 1440x1440 with 0 Axes>"
      ]
     },
     "metadata": {},
     "output_type": "display_data"
    }
   ],
   "source": [
    "\n"
   ]
  },
  {
   "cell_type": "code",
   "execution_count": null,
   "id": "2c7ae245",
   "metadata": {},
   "outputs": [],
   "source": []
  },
  {
   "cell_type": "code",
   "execution_count": null,
   "id": "3879ef64",
   "metadata": {},
   "outputs": [],
   "source": []
  },
  {
   "cell_type": "code",
   "execution_count": null,
   "id": "d1b46c92",
   "metadata": {},
   "outputs": [],
   "source": []
  },
  {
   "cell_type": "code",
   "execution_count": null,
   "id": "a2b07a92",
   "metadata": {},
   "outputs": [],
   "source": []
  },
  {
   "cell_type": "code",
   "execution_count": null,
   "id": "8fefd7ae",
   "metadata": {},
   "outputs": [],
   "source": []
  }
 ],
 "metadata": {
  "kernelspec": {
   "display_name": "Python 3 (ipykernel)",
   "language": "python",
   "name": "python3"
  },
  "language_info": {
   "codemirror_mode": {
    "name": "ipython",
    "version": 3
   },
   "file_extension": ".py",
   "mimetype": "text/x-python",
   "name": "python",
   "nbconvert_exporter": "python",
   "pygments_lexer": "ipython3",
   "version": "3.8.10"
  }
 },
 "nbformat": 4,
 "nbformat_minor": 5
}
